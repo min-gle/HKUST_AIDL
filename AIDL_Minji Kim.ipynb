{
 "cells": [
  {
   "cell_type": "code",
   "execution_count": 578,
   "id": "5230526d",
   "metadata": {},
   "outputs": [],
   "source": [
    "import numpy as np \n",
    "import pandas as pd\n",
    "import matplotlib.pyplot as plt\n",
    "import seaborn as sns\n",
    "import sklearn\n",
    "from sklearn import metrics"
   ]
  },
  {
   "cell_type": "code",
   "execution_count": 579,
   "id": "9008db0a",
   "metadata": {},
   "outputs": [],
   "source": [
    "train_df=pd.read_csv('/Users/min/Downloads/aidl/train.csv')\n",
    "test_df=pd.read_csv('/Users/min/Downloads/aidl/test.csv')"
   ]
  },
  {
   "cell_type": "code",
   "execution_count": 580,
   "id": "b8d859e4",
   "metadata": {},
   "outputs": [
    {
     "data": {
      "text/html": [
       "<div>\n",
       "<style scoped>\n",
       "    .dataframe tbody tr th:only-of-type {\n",
       "        vertical-align: middle;\n",
       "    }\n",
       "\n",
       "    .dataframe tbody tr th {\n",
       "        vertical-align: top;\n",
       "    }\n",
       "\n",
       "    .dataframe thead th {\n",
       "        text-align: right;\n",
       "    }\n",
       "</style>\n",
       "<table border=\"1\" class=\"dataframe\">\n",
       "  <thead>\n",
       "    <tr style=\"text-align: right;\">\n",
       "      <th></th>\n",
       "      <th>Channel</th>\n",
       "      <th>Watch time(Minutes)</th>\n",
       "      <th>Stream time(minutes)</th>\n",
       "      <th>Peak viewers</th>\n",
       "      <th>Average viewers</th>\n",
       "      <th>Followers</th>\n",
       "      <th>Followers gained</th>\n",
       "      <th>Views gained</th>\n",
       "      <th>Partnered</th>\n",
       "      <th>Mature</th>\n",
       "      <th>Language</th>\n",
       "    </tr>\n",
       "  </thead>\n",
       "  <tbody>\n",
       "    <tr>\n",
       "      <th>0</th>\n",
       "      <td>2ZR62O53</td>\n",
       "      <td>6196161750</td>\n",
       "      <td>215250</td>\n",
       "      <td>222720</td>\n",
       "      <td>27716</td>\n",
       "      <td>3246298</td>\n",
       "      <td>1734810</td>\n",
       "      <td>93036735</td>\n",
       "      <td>1</td>\n",
       "      <td>0</td>\n",
       "      <td>English</td>\n",
       "    </tr>\n",
       "    <tr>\n",
       "      <th>1</th>\n",
       "      <td>ZJ31SS7Q</td>\n",
       "      <td>6091677300</td>\n",
       "      <td>211845</td>\n",
       "      <td>310998</td>\n",
       "      <td>25610</td>\n",
       "      <td>5310163</td>\n",
       "      <td>1370184</td>\n",
       "      <td>89705964</td>\n",
       "      <td>1</td>\n",
       "      <td>0</td>\n",
       "      <td>English</td>\n",
       "    </tr>\n",
       "    <tr>\n",
       "      <th>2</th>\n",
       "      <td>I31VI9RK</td>\n",
       "      <td>5644590915</td>\n",
       "      <td>515280</td>\n",
       "      <td>387315</td>\n",
       "      <td>10976</td>\n",
       "      <td>1767635</td>\n",
       "      <td>1023779</td>\n",
       "      <td>102611607</td>\n",
       "      <td>1</td>\n",
       "      <td>1</td>\n",
       "      <td>Portuguese</td>\n",
       "    </tr>\n",
       "    <tr>\n",
       "      <th>3</th>\n",
       "      <td>6GP9WLYR</td>\n",
       "      <td>3970318140</td>\n",
       "      <td>517740</td>\n",
       "      <td>300575</td>\n",
       "      <td>7714</td>\n",
       "      <td>3944850</td>\n",
       "      <td>703986</td>\n",
       "      <td>106546942</td>\n",
       "      <td>1</td>\n",
       "      <td>0</td>\n",
       "      <td>English</td>\n",
       "    </tr>\n",
       "    <tr>\n",
       "      <th>4</th>\n",
       "      <td>3DVR0TDD</td>\n",
       "      <td>3671000070</td>\n",
       "      <td>123660</td>\n",
       "      <td>285644</td>\n",
       "      <td>29602</td>\n",
       "      <td>8938903</td>\n",
       "      <td>2068424</td>\n",
       "      <td>78998587</td>\n",
       "      <td>1</td>\n",
       "      <td>0</td>\n",
       "      <td>English</td>\n",
       "    </tr>\n",
       "  </tbody>\n",
       "</table>\n",
       "</div>"
      ],
      "text/plain": [
       "    Channel  Watch time(Minutes)  Stream time(minutes)  Peak viewers  \\\n",
       "0  2ZR62O53           6196161750                215250        222720   \n",
       "1  ZJ31SS7Q           6091677300                211845        310998   \n",
       "2  I31VI9RK           5644590915                515280        387315   \n",
       "3  6GP9WLYR           3970318140                517740        300575   \n",
       "4  3DVR0TDD           3671000070                123660        285644   \n",
       "\n",
       "   Average viewers  Followers  Followers gained  Views gained  Partnered  \\\n",
       "0            27716    3246298           1734810      93036735          1   \n",
       "1            25610    5310163           1370184      89705964          1   \n",
       "2            10976    1767635           1023779     102611607          1   \n",
       "3             7714    3944850            703986     106546942          1   \n",
       "4            29602    8938903           2068424      78998587          1   \n",
       "\n",
       "   Mature    Language  \n",
       "0       0     English  \n",
       "1       0     English  \n",
       "2       1  Portuguese  \n",
       "3       0     English  \n",
       "4       0     English  "
      ]
     },
     "execution_count": 580,
     "metadata": {},
     "output_type": "execute_result"
    }
   ],
   "source": [
    "train_df.head()"
   ]
  },
  {
   "cell_type": "code",
   "execution_count": 581,
   "id": "f1d5817a",
   "metadata": {},
   "outputs": [
    {
     "name": "stdout",
     "output_type": "stream",
     "text": [
      "(800, 11)\n"
     ]
    },
    {
     "data": {
      "text/html": [
       "<div>\n",
       "<style scoped>\n",
       "    .dataframe tbody tr th:only-of-type {\n",
       "        vertical-align: middle;\n",
       "    }\n",
       "\n",
       "    .dataframe tbody tr th {\n",
       "        vertical-align: top;\n",
       "    }\n",
       "\n",
       "    .dataframe thead th {\n",
       "        text-align: right;\n",
       "    }\n",
       "</style>\n",
       "<table border=\"1\" class=\"dataframe\">\n",
       "  <thead>\n",
       "    <tr style=\"text-align: right;\">\n",
       "      <th></th>\n",
       "      <th>Watch time(Minutes)</th>\n",
       "      <th>Stream time(minutes)</th>\n",
       "      <th>Peak viewers</th>\n",
       "      <th>Average viewers</th>\n",
       "      <th>Followers</th>\n",
       "      <th>Followers gained</th>\n",
       "      <th>Views gained</th>\n",
       "      <th>Partnered</th>\n",
       "      <th>Mature</th>\n",
       "    </tr>\n",
       "  </thead>\n",
       "  <tbody>\n",
       "    <tr>\n",
       "      <th>count</th>\n",
       "      <td>8.000000e+02</td>\n",
       "      <td>800.000000</td>\n",
       "      <td>800.000000</td>\n",
       "      <td>800.000000</td>\n",
       "      <td>8.000000e+02</td>\n",
       "      <td>8.000000e+02</td>\n",
       "      <td>8.000000e+02</td>\n",
       "      <td>800.000000</td>\n",
       "      <td>800.000000</td>\n",
       "    </tr>\n",
       "    <tr>\n",
       "      <th>mean</th>\n",
       "      <td>4.888771e+08</td>\n",
       "      <td>124526.512500</td>\n",
       "      <td>42307.343750</td>\n",
       "      <td>5402.686250</td>\n",
       "      <td>6.449188e+05</td>\n",
       "      <td>2.299286e+05</td>\n",
       "      <td>1.335486e+07</td>\n",
       "      <td>0.986250</td>\n",
       "      <td>0.217500</td>\n",
       "    </tr>\n",
       "    <tr>\n",
       "      <th>std</th>\n",
       "      <td>5.940109e+08</td>\n",
       "      <td>87625.117626</td>\n",
       "      <td>65691.400669</td>\n",
       "      <td>9180.191618</td>\n",
       "      <td>8.733633e+05</td>\n",
       "      <td>3.704139e+05</td>\n",
       "      <td>2.732344e+07</td>\n",
       "      <td>0.116524</td>\n",
       "      <td>0.412804</td>\n",
       "    </tr>\n",
       "    <tr>\n",
       "      <th>min</th>\n",
       "      <td>1.545242e+08</td>\n",
       "      <td>6195.000000</td>\n",
       "      <td>1182.000000</td>\n",
       "      <td>313.000000</td>\n",
       "      <td>3.660000e+03</td>\n",
       "      <td>-1.577200e+04</td>\n",
       "      <td>1.757880e+05</td>\n",
       "      <td>0.000000</td>\n",
       "      <td>0.000000</td>\n",
       "    </tr>\n",
       "    <tr>\n",
       "      <th>25%</th>\n",
       "      <td>2.004784e+08</td>\n",
       "      <td>76586.250000</td>\n",
       "      <td>10800.750000</td>\n",
       "      <td>1727.750000</td>\n",
       "      <td>1.988715e+05</td>\n",
       "      <td>4.940325e+04</td>\n",
       "      <td>4.889789e+06</td>\n",
       "      <td>1.000000</td>\n",
       "      <td>0.000000</td>\n",
       "    </tr>\n",
       "    <tr>\n",
       "      <th>50%</th>\n",
       "      <td>2.899965e+08</td>\n",
       "      <td>110857.500000</td>\n",
       "      <td>19607.000000</td>\n",
       "      <td>2829.500000</td>\n",
       "      <td>3.660885e+05</td>\n",
       "      <td>1.142085e+05</td>\n",
       "      <td>7.630136e+06</td>\n",
       "      <td>1.000000</td>\n",
       "      <td>0.000000</td>\n",
       "    </tr>\n",
       "    <tr>\n",
       "      <th>75%</th>\n",
       "      <td>5.276095e+08</td>\n",
       "      <td>147663.750000</td>\n",
       "      <td>43727.000000</td>\n",
       "      <td>5465.500000</td>\n",
       "      <td>7.319040e+05</td>\n",
       "      <td>2.533272e+05</td>\n",
       "      <td>1.378407e+07</td>\n",
       "      <td>1.000000</td>\n",
       "      <td>0.000000</td>\n",
       "    </tr>\n",
       "    <tr>\n",
       "      <th>max</th>\n",
       "      <td>6.196162e+09</td>\n",
       "      <td>521445.000000</td>\n",
       "      <td>639375.000000</td>\n",
       "      <td>147643.000000</td>\n",
       "      <td>8.938903e+06</td>\n",
       "      <td>3.966525e+06</td>\n",
       "      <td>6.701375e+08</td>\n",
       "      <td>1.000000</td>\n",
       "      <td>1.000000</td>\n",
       "    </tr>\n",
       "  </tbody>\n",
       "</table>\n",
       "</div>"
      ],
      "text/plain": [
       "       Watch time(Minutes)  Stream time(minutes)   Peak viewers  \\\n",
       "count         8.000000e+02            800.000000     800.000000   \n",
       "mean          4.888771e+08         124526.512500   42307.343750   \n",
       "std           5.940109e+08          87625.117626   65691.400669   \n",
       "min           1.545242e+08           6195.000000    1182.000000   \n",
       "25%           2.004784e+08          76586.250000   10800.750000   \n",
       "50%           2.899965e+08         110857.500000   19607.000000   \n",
       "75%           5.276095e+08         147663.750000   43727.000000   \n",
       "max           6.196162e+09         521445.000000  639375.000000   \n",
       "\n",
       "       Average viewers     Followers  Followers gained  Views gained  \\\n",
       "count       800.000000  8.000000e+02      8.000000e+02  8.000000e+02   \n",
       "mean       5402.686250  6.449188e+05      2.299286e+05  1.335486e+07   \n",
       "std        9180.191618  8.733633e+05      3.704139e+05  2.732344e+07   \n",
       "min         313.000000  3.660000e+03     -1.577200e+04  1.757880e+05   \n",
       "25%        1727.750000  1.988715e+05      4.940325e+04  4.889789e+06   \n",
       "50%        2829.500000  3.660885e+05      1.142085e+05  7.630136e+06   \n",
       "75%        5465.500000  7.319040e+05      2.533272e+05  1.378407e+07   \n",
       "max      147643.000000  8.938903e+06      3.966525e+06  6.701375e+08   \n",
       "\n",
       "        Partnered      Mature  \n",
       "count  800.000000  800.000000  \n",
       "mean     0.986250    0.217500  \n",
       "std      0.116524    0.412804  \n",
       "min      0.000000    0.000000  \n",
       "25%      1.000000    0.000000  \n",
       "50%      1.000000    0.000000  \n",
       "75%      1.000000    0.000000  \n",
       "max      1.000000    1.000000  "
      ]
     },
     "execution_count": 581,
     "metadata": {},
     "output_type": "execute_result"
    }
   ],
   "source": [
    "print(train_df.shape)\n",
    "train_df.describe()"
   ]
  },
  {
   "cell_type": "code",
   "execution_count": 582,
   "id": "d6484772",
   "metadata": {},
   "outputs": [
    {
     "data": {
      "text/plain": [
       "Channel                 0\n",
       "Watch time(Minutes)     0\n",
       "Stream time(minutes)    0\n",
       "Peak viewers            0\n",
       "Average viewers         0\n",
       "Followers               0\n",
       "Followers gained        0\n",
       "Views gained            0\n",
       "Partnered               0\n",
       "Mature                  0\n",
       "Language                0\n",
       "dtype: int64"
      ]
     },
     "execution_count": 582,
     "metadata": {},
     "output_type": "execute_result"
    }
   ],
   "source": [
    "train_df.isnull().sum()"
   ]
  },
  {
   "cell_type": "code",
   "execution_count": 585,
   "id": "0073481c",
   "metadata": {},
   "outputs": [
    {
     "data": {
      "text/plain": [
       "<seaborn.axisgrid.PairGrid at 0x7f9a08db3b80>"
      ]
     },
     "execution_count": 585,
     "metadata": {},
     "output_type": "execute_result"
    },
    {
     "data": {
      "image/png": "[encoded data removed]",
      "text/plain": [
       "<Figure size 720x180 with 4 Axes>"
      ]
     },
     "metadata": {
      "needs_background": "light"
     },
     "output_type": "display_data"
    }
   ],
   "source": [
    "#outlier 확인\n",
    "sns.pairplot(train_df, x_vars=['Watch time(Minutes)', 'Stream time(minutes)', 'Peak viewers', 'Average viewers'], y_vars=['Followers gained'])\n",
    "             "
   ]
  },
  {
   "cell_type": "code",
   "execution_count": 586,
   "id": "391f4043",
   "metadata": {},
   "outputs": [
    {
     "data": {
      "image/png": "[encoded data removed]",
      "text/plain": [
       "<Figure size 1296x864 with 2 Axes>"
      ]
     },
     "metadata": {
      "needs_background": "light"
     },
     "output_type": "display_data"
    }
   ],
   "source": [
    "#correlation 확인\n",
    "plt.figure(figsize=(18,12))\n",
    "sns.heatmap(train_df.corr(), yticklabels='auto', annot=True, cmap='YlGnBu')\n",
    "plt.show()"
   ]
  },
  {
   "cell_type": "code",
   "execution_count": 587,
   "id": "757ee1fd",
   "metadata": {},
   "outputs": [
    {
     "data": {
      "text/html": [
       "<div>\n",
       "<style scoped>\n",
       "    .dataframe tbody tr th:only-of-type {\n",
       "        vertical-align: middle;\n",
       "    }\n",
       "\n",
       "    .dataframe tbody tr th {\n",
       "        vertical-align: top;\n",
       "    }\n",
       "\n",
       "    .dataframe thead th {\n",
       "        text-align: right;\n",
       "    }\n",
       "</style>\n",
       "<table border=\"1\" class=\"dataframe\">\n",
       "  <thead>\n",
       "    <tr style=\"text-align: right;\">\n",
       "      <th></th>\n",
       "      <th>Channel</th>\n",
       "      <th>Watch time(Minutes)</th>\n",
       "      <th>Stream time(minutes)</th>\n",
       "      <th>Peak viewers</th>\n",
       "      <th>Average viewers</th>\n",
       "      <th>Followers</th>\n",
       "      <th>Followers gained</th>\n",
       "      <th>Views gained</th>\n",
       "      <th>Partnered</th>\n",
       "      <th>Mature</th>\n",
       "      <th>Language</th>\n",
       "    </tr>\n",
       "  </thead>\n",
       "  <tbody>\n",
       "    <tr>\n",
       "      <th>0</th>\n",
       "      <td>2ZR62O53</td>\n",
       "      <td>6196161750</td>\n",
       "      <td>215250</td>\n",
       "      <td>222720</td>\n",
       "      <td>27716</td>\n",
       "      <td>3246298</td>\n",
       "      <td>1734810</td>\n",
       "      <td>93036735</td>\n",
       "      <td>1</td>\n",
       "      <td>0</td>\n",
       "      <td>English</td>\n",
       "    </tr>\n",
       "    <tr>\n",
       "      <th>1</th>\n",
       "      <td>ZJ31SS7Q</td>\n",
       "      <td>6091677300</td>\n",
       "      <td>211845</td>\n",
       "      <td>310998</td>\n",
       "      <td>25610</td>\n",
       "      <td>5310163</td>\n",
       "      <td>1370184</td>\n",
       "      <td>89705964</td>\n",
       "      <td>1</td>\n",
       "      <td>0</td>\n",
       "      <td>English</td>\n",
       "    </tr>\n",
       "    <tr>\n",
       "      <th>2</th>\n",
       "      <td>I31VI9RK</td>\n",
       "      <td>5644590915</td>\n",
       "      <td>515280</td>\n",
       "      <td>387315</td>\n",
       "      <td>10976</td>\n",
       "      <td>1767635</td>\n",
       "      <td>1023779</td>\n",
       "      <td>102611607</td>\n",
       "      <td>1</td>\n",
       "      <td>1</td>\n",
       "      <td>Portuguese</td>\n",
       "    </tr>\n",
       "    <tr>\n",
       "      <th>3</th>\n",
       "      <td>6GP9WLYR</td>\n",
       "      <td>3970318140</td>\n",
       "      <td>517740</td>\n",
       "      <td>300575</td>\n",
       "      <td>7714</td>\n",
       "      <td>3944850</td>\n",
       "      <td>703986</td>\n",
       "      <td>106546942</td>\n",
       "      <td>1</td>\n",
       "      <td>0</td>\n",
       "      <td>English</td>\n",
       "    </tr>\n",
       "    <tr>\n",
       "      <th>4</th>\n",
       "      <td>3DVR0TDD</td>\n",
       "      <td>3671000070</td>\n",
       "      <td>123660</td>\n",
       "      <td>285644</td>\n",
       "      <td>29602</td>\n",
       "      <td>8938903</td>\n",
       "      <td>2068424</td>\n",
       "      <td>78998587</td>\n",
       "      <td>1</td>\n",
       "      <td>0</td>\n",
       "      <td>English</td>\n",
       "    </tr>\n",
       "    <tr>\n",
       "      <th>...</th>\n",
       "      <td>...</td>\n",
       "      <td>...</td>\n",
       "      <td>...</td>\n",
       "      <td>...</td>\n",
       "      <td>...</td>\n",
       "      <td>...</td>\n",
       "      <td>...</td>\n",
       "      <td>...</td>\n",
       "      <td>...</td>\n",
       "      <td>...</td>\n",
       "      <td>...</td>\n",
       "    </tr>\n",
       "    <tr>\n",
       "      <th>795</th>\n",
       "      <td>M3VVKDII</td>\n",
       "      <td>155187570</td>\n",
       "      <td>57120</td>\n",
       "      <td>19298</td>\n",
       "      <td>2647</td>\n",
       "      <td>179420</td>\n",
       "      <td>132867</td>\n",
       "      <td>4071398</td>\n",
       "      <td>1</td>\n",
       "      <td>0</td>\n",
       "      <td>Italian</td>\n",
       "    </tr>\n",
       "    <tr>\n",
       "      <th>796</th>\n",
       "      <td>H4RDC7MS</td>\n",
       "      <td>154982550</td>\n",
       "      <td>87945</td>\n",
       "      <td>7136</td>\n",
       "      <td>1711</td>\n",
       "      <td>245715</td>\n",
       "      <td>122045</td>\n",
       "      <td>3621969</td>\n",
       "      <td>1</td>\n",
       "      <td>1</td>\n",
       "      <td>Portuguese</td>\n",
       "    </tr>\n",
       "    <tr>\n",
       "      <th>797</th>\n",
       "      <td>3OR62HLN</td>\n",
       "      <td>154727730</td>\n",
       "      <td>94275</td>\n",
       "      <td>6213</td>\n",
       "      <td>1605</td>\n",
       "      <td>114154</td>\n",
       "      <td>32991</td>\n",
       "      <td>3059244</td>\n",
       "      <td>1</td>\n",
       "      <td>0</td>\n",
       "      <td>Spanish</td>\n",
       "    </tr>\n",
       "    <tr>\n",
       "      <th>798</th>\n",
       "      <td>Y7UCJJTF</td>\n",
       "      <td>154595850</td>\n",
       "      <td>85635</td>\n",
       "      <td>8533</td>\n",
       "      <td>1777</td>\n",
       "      <td>120494</td>\n",
       "      <td>28322</td>\n",
       "      <td>3446723</td>\n",
       "      <td>1</td>\n",
       "      <td>0</td>\n",
       "      <td>Spanish</td>\n",
       "    </tr>\n",
       "    <tr>\n",
       "      <th>799</th>\n",
       "      <td>YTHUY3VF</td>\n",
       "      <td>154524165</td>\n",
       "      <td>117735</td>\n",
       "      <td>7416</td>\n",
       "      <td>1216</td>\n",
       "      <td>199617</td>\n",
       "      <td>23303</td>\n",
       "      <td>2812219</td>\n",
       "      <td>1</td>\n",
       "      <td>0</td>\n",
       "      <td>English</td>\n",
       "    </tr>\n",
       "  </tbody>\n",
       "</table>\n",
       "<p>800 rows × 11 columns</p>\n",
       "</div>"
      ],
      "text/plain": [
       "      Channel  Watch time(Minutes)  Stream time(minutes)  Peak viewers  \\\n",
       "0    2ZR62O53           6196161750                215250        222720   \n",
       "1    ZJ31SS7Q           6091677300                211845        310998   \n",
       "2    I31VI9RK           5644590915                515280        387315   \n",
       "3    6GP9WLYR           3970318140                517740        300575   \n",
       "4    3DVR0TDD           3671000070                123660        285644   \n",
       "..        ...                  ...                   ...           ...   \n",
       "795  M3VVKDII            155187570                 57120         19298   \n",
       "796  H4RDC7MS            154982550                 87945          7136   \n",
       "797  3OR62HLN            154727730                 94275          6213   \n",
       "798  Y7UCJJTF            154595850                 85635          8533   \n",
       "799  YTHUY3VF            154524165                117735          7416   \n",
       "\n",
       "     Average viewers  Followers  Followers gained  Views gained  Partnered  \\\n",
       "0              27716    3246298           1734810      93036735          1   \n",
       "1              25610    5310163           1370184      89705964          1   \n",
       "2              10976    1767635           1023779     102611607          1   \n",
       "3               7714    3944850            703986     106546942          1   \n",
       "4              29602    8938903           2068424      78998587          1   \n",
       "..               ...        ...               ...           ...        ...   \n",
       "795             2647     179420            132867       4071398          1   \n",
       "796             1711     245715            122045       3621969          1   \n",
       "797             1605     114154             32991       3059244          1   \n",
       "798             1777     120494             28322       3446723          1   \n",
       "799             1216     199617             23303       2812219          1   \n",
       "\n",
       "     Mature    Language  \n",
       "0         0     English  \n",
       "1         0     English  \n",
       "2         1  Portuguese  \n",
       "3         0     English  \n",
       "4         0     English  \n",
       "..      ...         ...  \n",
       "795       0     Italian  \n",
       "796       1  Portuguese  \n",
       "797       0     Spanish  \n",
       "798       0     Spanish  \n",
       "799       0     English  \n",
       "\n",
       "[800 rows x 11 columns]"
      ]
     },
     "execution_count": 587,
     "metadata": {},
     "output_type": "execute_result"
    }
   ],
   "source": [
    "train_df"
   ]
  },
  {
   "cell_type": "code",
   "execution_count": 590,
   "id": "fa020c84",
   "metadata": {},
   "outputs": [],
   "source": [
    "\n",
    "x = train_df.drop(['Followers gained','Channel', 'Partnered','Mature','Language'], axis=1)\n",
    "y = train_df['Followers gained']\n"
   ]
  },
  {
   "cell_type": "code",
   "execution_count": 598,
   "id": "2f0e308d",
   "metadata": {},
   "outputs": [],
   "source": [
    "from sklearn.model_selection import train_test_split\n",
    "xtrain,xtest,ytrain,ytest = train_test_split(x, y, test_size=0.2, random_state=25)"
   ]
  },
  {
   "cell_type": "markdown",
   "id": "fee2ceae",
   "metadata": {},
   "source": [
    "# Linear Regression"
   ]
  },
  {
   "cell_type": "code",
   "execution_count": 599,
   "id": "203c50b8",
   "metadata": {},
   "outputs": [
    {
     "data": {
      "text/plain": [
       "LinearRegression()"
      ]
     },
     "execution_count": 599,
     "metadata": {},
     "output_type": "execute_result"
    }
   ],
   "source": [
    "from sklearn.linear_model import LinearRegression\n",
    "lr = LinearRegression()\n",
    "lr.fit(xtrain, ytrain)"
   ]
  },
  {
   "cell_type": "code",
   "execution_count": 600,
   "id": "da86c48f",
   "metadata": {},
   "outputs": [
    {
     "name": "stdout",
     "output_type": "stream",
     "text": [
      "Accuracy of testing data: 46.9134949213741\n",
      "Root Mean Squared Error: 207167.71066057254\n"
     ]
    }
   ],
   "source": [
    "ypred_test = lr.predict(xtest)\n",
    "print(\"Accuracy of testing data:\", metrics.r2_score(ytest, ypred_test)*100)\n",
    "print('Root Mean Squared Error:', np.sqrt(metrics.mean_squared_error(ytest, ypred_test)))"
   ]
  },
  {
   "cell_type": "markdown",
   "id": "5e95b3d7",
   "metadata": {},
   "source": [
    "# Random Forest"
   ]
  },
  {
   "cell_type": "code",
   "execution_count": 601,
   "id": "68d274f3",
   "metadata": {},
   "outputs": [],
   "source": [
    "from sklearn.model_selection import GridSearchCV\n",
    "param_grid = {\n",
    "    'n_estimators': [50, 100, 150, 200, 250,1000,2000],\n",
    "    'max_depth': [None, 6, 9, 12],\n",
    "    'min_samples_split': [0.01, 0.05, 0.1,0.5],\n",
    "    'max_features': ['auto', 'sqrt']}\n",
    "estimator = RandomForestRegressor()\n"
   ]
  },
  {
   "cell_type": "code",
   "execution_count": 602,
   "id": "92fa3679",
   "metadata": {},
   "outputs": [],
   "source": [
    "from sklearn.model_selection import KFold\n",
    "kf = KFold(n_splits=5)"
   ]
  },
  {
   "cell_type": "code",
   "execution_count": 604,
   "id": "d884d84f",
   "metadata": {},
   "outputs": [
    {
     "name": "stdout",
     "output_type": "stream",
     "text": [
      "Fitting 5 folds for each of 224 candidates, totalling 1120 fits\n"
     ]
    },
    {
     "data": {
      "text/plain": [
       "GridSearchCV(cv=KFold(n_splits=5, random_state=None, shuffle=False),\n",
       "             estimator=RandomForestRegressor(), n_jobs=-1,\n",
       "             param_grid={'max_depth': [None, 6, 9, 12],\n",
       "                         'max_features': ['auto', 'sqrt'],\n",
       "                         'min_samples_split': [0.01, 0.05, 0.1, 0.5],\n",
       "                         'n_estimators': [50, 100, 150, 200, 250, 1000, 2000]},\n",
       "             verbose=2)"
      ]
     },
     "execution_count": 604,
     "metadata": {},
     "output_type": "execute_result"
    }
   ],
   "source": [
    "# define grid_search\n",
    "grid_search = GridSearchCV(estimator=RandomForestRegressor(), \n",
    "                           param_grid=param_grid, \n",
    "                           cv=kf, \n",
    "                           n_jobs=-1, \n",
    "                           verbose=2)\n",
    "\n",
    "# fit with (x_train, y_train)\n",
    "grid_search.fit(xtrain, ytrain)"
   ]
  },
  {
   "cell_type": "code",
   "execution_count": null,
   "id": "fa794111",
   "metadata": {},
   "outputs": [],
   "source": [
    "grid_search.best_params_"
   ]
  },
  {
   "cell_type": "code",
   "execution_count": 606,
   "id": "7b9ca25c",
   "metadata": {},
   "outputs": [
    {
     "data": {
      "text/plain": [
       "RandomForestRegressor(ccp_alpha=0.05, max_depth=9, n_estimators=2000)"
      ]
     },
     "execution_count": 606,
     "metadata": {},
     "output_type": "execute_result"
    }
   ],
   "source": [
    "rfr = RandomForestRegressor(max_depth=9,\n",
    "                            n_estimators=2000,\n",
    "                            ccp_alpha=0.05)\n",
    "rfr.fit(xtrain, ytrain)"
   ]
  },
  {
   "cell_type": "code",
   "execution_count": 607,
   "id": "5167a1e1",
   "metadata": {},
   "outputs": [
    {
     "name": "stdout",
     "output_type": "stream",
     "text": [
      "(640,)\n",
      "(160,)\n"
     ]
    }
   ],
   "source": [
    "ypred_train = rfr.predict(xtrain)\n",
    "ypred_test = rfr.predict(xtest)\n",
    "print(ypred_train.shape)\n",
    "print(ypred_test.shape)"
   ]
  },
  {
   "cell_type": "code",
   "execution_count": 617,
   "id": "1dcf48bd",
   "metadata": {},
   "outputs": [
    {
     "name": "stdout",
     "output_type": "stream",
     "text": [
      "Accuracy of testing data: 58.23060203861\n"
     ]
    }
   ],
   "source": [
    "print(\"Accuracy of testing data:\", metrics.r2_score(ytest, ypred_test)*100)"
   ]
  },
  {
   "cell_type": "code",
   "execution_count": 609,
   "id": "41d42f11",
   "metadata": {},
   "outputs": [
    {
     "name": "stdout",
     "output_type": "stream",
     "text": [
      "Root Mean Squared Error: 183763.4379503329\n"
     ]
    }
   ],
   "source": [
    "print('Root Mean Squared Error:', np.sqrt(metrics.mean_squared_error(ytest, ypred_test)))"
   ]
  },
  {
   "cell_type": "markdown",
   "id": "a1557e56",
   "metadata": {},
   "source": [
    "# Submission"
   ]
  },
  {
   "cell_type": "code",
   "execution_count": 610,
   "id": "224ffcad",
   "metadata": {},
   "outputs": [
    {
     "name": "stdout",
     "output_type": "stream",
     "text": [
      "(200, 6)\n"
     ]
    }
   ],
   "source": [
    "xtest = test_df.drop(['Channel', 'Partnered','Mature','Language'], axis=1)\n",
    "print(xtest.shape)"
   ]
  },
  {
   "cell_type": "code",
   "execution_count": 614,
   "id": "078a54fe",
   "metadata": {},
   "outputs": [
    {
     "name": "stdout",
     "output_type": "stream",
     "text": [
      "(200,)\n"
     ]
    }
   ],
   "source": [
    "rfr.fit(xtrain,ytrain)\n",
    "pred=rfr.predict(xtest)\n",
    "print(pred.shape)"
   ]
  },
  {
   "cell_type": "code",
   "execution_count": 615,
   "id": "3bdf8ccb",
   "metadata": {},
   "outputs": [
    {
     "name": "stdout",
     "output_type": "stream",
     "text": [
      "      Channel  followers gained\n",
      "0    97R8L3J0     161585.803080\n",
      "1    6UV44QFF      55525.830126\n",
      "2    2WKQZUGR     185515.737587\n",
      "3    R4DGVX2D     111538.450904\n",
      "4    P8YSNIOI      48336.217913\n",
      "..        ...               ...\n",
      "195  8Q556ABI     268820.090438\n",
      "196  AXQ2XZ45      66392.553808\n",
      "197  AP7UE7SZ      37630.565365\n",
      "198  PNCBWRE4     121307.209786\n",
      "199  7S7Y639P      97093.329205\n",
      "\n",
      "[200 rows x 2 columns]\n"
     ]
    }
   ],
   "source": [
    "df = {'Channel': test_df['Channel'], 'followers gained': pred}\n",
    "result = pd.DataFrame(df)\n",
    "print(result)"
   ]
  },
  {
   "cell_type": "code",
   "execution_count": null,
   "id": "9b7d6dba",
   "metadata": {},
   "outputs": [],
   "source": [
    "result.to_csv('/Users/min/Downloads/aidl/submission.csv',index=False)"
   ]
  },
  {
   "cell_type": "code",
   "execution_count": null,
   "id": "9c2bf8bf",
   "metadata": {},
   "outputs": [],
   "source": []
  }
 ],
 "metadata": {
  "kernelspec": {
   "display_name": "Python 3",
   "language": "python",
   "name": "python3"
  },
  "language_info": {
   "codemirror_mode": {
    "name": "ipython",
    "version": 3
   },
   "file_extension": ".py",
   "mimetype": "text/x-python",
   "name": "python",
   "nbconvert_exporter": "python",
   "pygments_lexer": "ipython3",
   "version": "3.8.8"
  }
 },
 "nbformat": 4,
 "nbformat_minor": 5
}
